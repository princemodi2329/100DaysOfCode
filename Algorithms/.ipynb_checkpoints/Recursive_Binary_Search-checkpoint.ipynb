{
 "cells": [
  {
   "cell_type": "markdown",
   "metadata": {},
   "source": [
    "## Recursive Binary Search\n",
    "\n",
    "This code instead of returning the index of the target, returns TRUE if the target is present in the input list."
   ]
  },
  {
   "cell_type": "code",
   "execution_count": 26,
   "metadata": {},
   "outputs": [],
   "source": [
    "def recursive_binary_search(input_list, target):\n",
    "    if len(input_list) == 0:\n",
    "        return False\n",
    "    else:\n",
    "        midpoint = len(input_list) // 2\n",
    "        if input_list[midpoint] == target:\n",
    "            return True\n",
    "        else:\n",
    "            if input_list[midpoint] < target:\n",
    "                return recursive_binary_search(input_list[midpoint + 1:], target)\n",
    "            else:\n",
    "                return recursive_binary_search(input_list[:midpoint], target)\n",
    "    \n",
    "    "
   ]
  },
  {
   "cell_type": "code",
   "execution_count": 35,
   "metadata": {},
   "outputs": [
    {
     "name": "stdout",
     "output_type": "stream",
     "text": [
      "False\n"
     ]
    }
   ],
   "source": [
    "inputs = []\n",
    "target = -1\n",
    "\n",
    "index_position = recursive_binary_search(inputs, target)\n",
    "print(index_position)"
   ]
  },
  {
   "cell_type": "code",
   "execution_count": null,
   "metadata": {},
   "outputs": [],
   "source": []
  }
 ],
 "metadata": {
  "kernelspec": {
   "display_name": "Python 3",
   "language": "python",
   "name": "python3"
  },
  "language_info": {
   "codemirror_mode": {
    "name": "ipython",
    "version": 3
   },
   "file_extension": ".py",
   "mimetype": "text/x-python",
   "name": "python",
   "nbconvert_exporter": "python",
   "pygments_lexer": "ipython3",
   "version": "3.7.8"
  }
 },
 "nbformat": 4,
 "nbformat_minor": 4
}
