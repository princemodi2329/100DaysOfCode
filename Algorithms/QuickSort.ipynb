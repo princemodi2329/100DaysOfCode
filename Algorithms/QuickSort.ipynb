{
 "cells": [
  {
   "cell_type": "markdown",
   "metadata": {},
   "source": [
    "## QUICK SORT ALGORITHM"
   ]
  },
  {
   "cell_type": "markdown",
   "metadata": {},
   "source": [
    "Quick sort is a divide and conquer algorithm. It picks a pivot element and partitions the array based on the pivot. "
   ]
  },
  {
   "cell_type": "code",
   "execution_count": 12,
   "metadata": {},
   "outputs": [],
   "source": [
    "def quicksort(arr):\n",
    "    print(\"array\")\n",
    "    print(arr)\n",
    "    less = []\n",
    "    print(\"less\")\n",
    "    print(less)\n",
    "    equal = []\n",
    "    print(\"equal\")\n",
    "    print(equal)\n",
    "    greater = []\n",
    "    print(\"greater\")\n",
    "    print(greater)\n",
    "    \n",
    "    if len(arr) > 1:\n",
    "        pivot = arr[0]\n",
    "        for i in arr:\n",
    "            if i < pivot:\n",
    "                less.append(i)\n",
    "            elif i == pivot:\n",
    "                equal.append(i)\n",
    "            elif i > pivot:\n",
    "                greater.append(i)\n",
    "        return quicksort(less) + equal + quicksort(greater)\n",
    "                    \n",
    "    else:\n",
    "        return arr"
   ]
  },
  {
   "cell_type": "code",
   "execution_count": 13,
   "metadata": {},
   "outputs": [
    {
     "name": "stdout",
     "output_type": "stream",
     "text": [
      "array\n",
      "[1, 3, 5, 7, 9, 2, 4, 6, 8]\n",
      "less\n",
      "[]\n",
      "equal\n",
      "[]\n",
      "greater\n",
      "[]\n",
      "array\n",
      "[]\n",
      "less\n",
      "[]\n",
      "equal\n",
      "[]\n",
      "greater\n",
      "[]\n",
      "array\n",
      "[3, 5, 7, 9, 2, 4, 6, 8]\n",
      "less\n",
      "[]\n",
      "equal\n",
      "[]\n",
      "greater\n",
      "[]\n",
      "array\n",
      "[2]\n",
      "less\n",
      "[]\n",
      "equal\n",
      "[]\n",
      "greater\n",
      "[]\n",
      "array\n",
      "[5, 7, 9, 4, 6, 8]\n",
      "less\n",
      "[]\n",
      "equal\n",
      "[]\n",
      "greater\n",
      "[]\n",
      "array\n",
      "[4]\n",
      "less\n",
      "[]\n",
      "equal\n",
      "[]\n",
      "greater\n",
      "[]\n",
      "array\n",
      "[7, 9, 6, 8]\n",
      "less\n",
      "[]\n",
      "equal\n",
      "[]\n",
      "greater\n",
      "[]\n",
      "array\n",
      "[6]\n",
      "less\n",
      "[]\n",
      "equal\n",
      "[]\n",
      "greater\n",
      "[]\n",
      "array\n",
      "[9, 8]\n",
      "less\n",
      "[]\n",
      "equal\n",
      "[]\n",
      "greater\n",
      "[]\n",
      "array\n",
      "[8]\n",
      "less\n",
      "[]\n",
      "equal\n",
      "[]\n",
      "greater\n",
      "[]\n",
      "array\n",
      "[]\n",
      "less\n",
      "[]\n",
      "equal\n",
      "[]\n",
      "greater\n",
      "[]\n",
      "[1, 2, 3, 4, 5, 6, 7, 8, 9]\n"
     ]
    }
   ],
   "source": [
    "arr = [1,3,5,7,9,2,4,6,8]\n",
    "print(quicksort(arr))"
   ]
  },
  {
   "cell_type": "code",
   "execution_count": null,
   "metadata": {},
   "outputs": [],
   "source": []
  }
 ],
 "metadata": {
  "kernelspec": {
   "display_name": "Python 3",
   "language": "python",
   "name": "python3"
  },
  "language_info": {
   "codemirror_mode": {
    "name": "ipython",
    "version": 3
   },
   "file_extension": ".py",
   "mimetype": "text/x-python",
   "name": "python",
   "nbconvert_exporter": "python",
   "pygments_lexer": "ipython3",
   "version": "3.7.8"
  }
 },
 "nbformat": 4,
 "nbformat_minor": 4
}
