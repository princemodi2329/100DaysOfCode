{
 "cells": [
  {
   "cell_type": "markdown",
   "metadata": {},
   "source": [
    "## Binary Search Algorithm\n",
    "\n",
    "Binary Search works by breaking list down into smaller sets until we find the desired target.\n",
    "\n",
    "### An important thing to note here is that the input list that we will be providing has to be sorted in ascending order for the algorithm to work correctly."
   ]
  },
  {
   "cell_type": "code",
   "execution_count": 1,
   "metadata": {},
   "outputs": [],
   "source": [
    "def binary_search(list, target):\n",
    "    # We need a way to keep track of the position of the list that we are working with.\n",
    "    # So, we will create 2 variable that points to the beginning and end of the array\n",
    "    first = 0\n",
    "    \n",
    "    # Let's say there are 5 elements in the list. The list index starts at 0 and as there are 5, the list index will end at 4.\n",
    "    # Since len(list) will return the value 5, we need to subtract 1 to get the last index position of 4\n",
    "    last = len(list) - 1\n",
    "    \n",
    "    # Since we will be breaking down the list into smaller lists, we need a while loop to keep the algorithm running.\n",
    "    while first <= last:\n",
    "        midpoint = (first + last)//2 # floor division operator. It ROUNDS DOWN to nearest whole number\n",
    "        \n",
    "        # BREAK condition\n",
    "        if list[midpoint] == target:\n",
    "            return midpoint\n",
    "        elif list[midpoint] < target:\n",
    "            first = midpoint + 1\n",
    "        else:\n",
    "            last = midpoint - 1"
   ]
  },
  {
   "cell_type": "code",
   "execution_count": 2,
   "metadata": {},
   "outputs": [],
   "source": [
    "def verify(index):\n",
    "    if index is not None:\n",
    "        return \"The target is present at index: \" + str(index)\n",
    "    else:\n",
    "        return \"The target is not present in the list\""
   ]
  },
  {
   "cell_type": "code",
   "execution_count": 3,
   "metadata": {},
   "outputs": [
    {
     "name": "stdout",
     "output_type": "stream",
     "text": [
      "The target is present at index: 0\n"
     ]
    }
   ],
   "source": [
    "inputs = [1,2,3,4,5]\n",
    "target = 1\n",
    "\n",
    "index_position = binary_search(inputs, target)\n",
    "print(verify(index_position))"
   ]
  },
  {
   "cell_type": "code",
   "execution_count": 4,
   "metadata": {},
   "outputs": [
    {
     "name": "stdout",
     "output_type": "stream",
     "text": [
      "The target is not present in the list\n"
     ]
    }
   ],
   "source": [
    "inputs = [1,2,3,4,5]\n",
    "target = 6\n",
    "\n",
    "index_position = binary_search(inputs, target)\n",
    "print(verify(index_position))"
   ]
  },
  {
   "cell_type": "code",
   "execution_count": 5,
   "metadata": {},
   "outputs": [
    {
     "name": "stdout",
     "output_type": "stream",
     "text": [
      "The target is present at index: 4\n"
     ]
    }
   ],
   "source": [
    "inputs = [1,2,3,4,5]\n",
    "target = 5\n",
    "\n",
    "index_position = binary_search(inputs, target)\n",
    "print(verify(index_position))"
   ]
  },
  {
   "cell_type": "code",
   "execution_count": null,
   "metadata": {},
   "outputs": [],
   "source": []
  }
 ],
 "metadata": {
  "kernelspec": {
   "display_name": "Python 3",
   "language": "python",
   "name": "python3"
  },
  "language_info": {
   "codemirror_mode": {
    "name": "ipython",
    "version": 3
   },
   "file_extension": ".py",
   "mimetype": "text/x-python",
   "name": "python",
   "nbconvert_exporter": "python",
   "pygments_lexer": "ipython3",
   "version": "3.7.8"
  }
 },
 "nbformat": 4,
 "nbformat_minor": 4
}
