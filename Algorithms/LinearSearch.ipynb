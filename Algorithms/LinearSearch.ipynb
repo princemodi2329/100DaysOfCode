{
 "cells": [
  {
   "cell_type": "markdown",
   "metadata": {},
   "source": [
    "## Linear Search Algorithm\n",
    "\n",
    "\n",
    "The Linear Search Algorithm is a sequential algorithm that compares each item in the list until the target is found."
   ]
  },
  {
   "cell_type": "code",
   "execution_count": 1,
   "metadata": {},
   "outputs": [],
   "source": [
    "def linear_search(target, input_list):\n",
    "    \"\"\"\n",
    "    Returns the index position of the target if found, else returns None\n",
    "    \"\"\"\n",
    "    \n",
    "    # To iterate over the list, we will be using a for loop\n",
    "    # Since we are interested in finding the index position, we will use range function for loop.\n",
    "    # range(0, len(input_list)) means start the loop at First element in the list i.e. 0th index position and iterate till the last element in the list \n",
    "    for i in range(0, len(input_list)):\n",
    "        if input_list[i] == target:\n",
    "            return i\n",
    "    else:\n",
    "        return None\n",
    "        "
   ]
  },
  {
   "cell_type": "code",
   "execution_count": 2,
   "metadata": {},
   "outputs": [],
   "source": [
    "def verify(index):\n",
    "    if index is not None:\n",
    "        return \"The target is present at index: \" + str(index)\n",
    "    else:\n",
    "        return \"The target is not present in the list\""
   ]
  },
  {
   "cell_type": "code",
   "execution_count": 3,
   "metadata": {},
   "outputs": [
    {
     "name": "stdout",
     "output_type": "stream",
     "text": [
      "The target is present at index: 0\n"
     ]
    }
   ],
   "source": [
    "inputs = [1,2,3,4,5]\n",
    "target = 1\n",
    "\n",
    "index_position = linear_search(target, inputs)\n",
    "print(verify(index_position))"
   ]
  },
  {
   "cell_type": "code",
   "execution_count": 4,
   "metadata": {},
   "outputs": [
    {
     "name": "stdout",
     "output_type": "stream",
     "text": [
      "The target is not present in the list\n"
     ]
    }
   ],
   "source": [
    "inputs = [1,2,3,4,5]\n",
    "target = 6\n",
    "\n",
    "index_position = linear_search(target, inputs)\n",
    "print(verify(index_position))"
   ]
  },
  {
   "cell_type": "code",
   "execution_count": 5,
   "metadata": {},
   "outputs": [
    {
     "name": "stdout",
     "output_type": "stream",
     "text": [
      "The target is present at index: 4\n"
     ]
    }
   ],
   "source": [
    "inputs = [1,2,3,4,5]\n",
    "target = 5\n",
    "\n",
    "index_position = linear_search(target, inputs)\n",
    "print(verify(index_position))"
   ]
  },
  {
   "cell_type": "code",
   "execution_count": null,
   "metadata": {},
   "outputs": [],
   "source": []
  }
 ],
 "metadata": {
  "kernelspec": {
   "display_name": "Python 3",
   "language": "python",
   "name": "python3"
  },
  "language_info": {
   "codemirror_mode": {
    "name": "ipython",
    "version": 3
   },
   "file_extension": ".py",
   "mimetype": "text/x-python",
   "name": "python",
   "nbconvert_exporter": "python",
   "pygments_lexer": "ipython3",
   "version": "3.7.8"
  }
 },
 "nbformat": 4,
 "nbformat_minor": 4
}
