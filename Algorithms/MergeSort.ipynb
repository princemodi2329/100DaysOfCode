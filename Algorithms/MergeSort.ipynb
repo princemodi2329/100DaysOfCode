{
 "cells": [
  {
   "cell_type": "markdown",
   "metadata": {},
   "source": [
    "## Merge Sort"
   ]
  },
  {
   "cell_type": "markdown",
   "metadata": {},
   "source": [
    "Merge Sort algorithm adopts the divide and conquer approach to sort elements within a list effectively. Merge sort operation follows the basis of dividing the list into halves and continuously dividing the new halves down to their individual component. Then there is a comparison between individual components, which are merged to form the final sorted list."
   ]
  },
  {
   "cell_type": "code",
   "execution_count": 9,
   "metadata": {},
   "outputs": [],
   "source": [
    "def merge_sort(list):\n",
    "    # 1. Store the length of the list\n",
    "    list_len = len(list)\n",
    "    \n",
    "    # 2. If the length of the list is 1, the list is sorted and we can return the list.\n",
    "    if list_len == 1:\n",
    "        return list\n",
    "    \n",
    "    # 3. Identify the midpoint of the list to partition the list into 2 partitions\n",
    "    midpoint = list_len // 2\n",
    "    \n",
    "    # 4. To ensure all partitions are broken down into their individual components, \n",
    "    # the merge_sort function is called and a partitioned portion of the list is passed as a parameter\n",
    "    left_partition = merge_sort(list[:midpoint])\n",
    "    print(left_partition)\n",
    "    right_partition = merge_sort(list[midpoint:])\n",
    "    print(right_partition)\n",
    "    \n",
    "    # 5. The merge_sort function returns a list composed of a sorted left and right partition\n",
    "    return merge(left_partition, right_partition)"
   ]
  },
  {
   "cell_type": "code",
   "execution_count": 10,
   "metadata": {},
   "outputs": [],
   "source": [
    "def merge(left, right):\n",
    "    # initialize an empty list output that will be populated with sorted elements.\n",
    "    output = []\n",
    "    \n",
    "    # initialize two pointers i and j \n",
    "    i = j = 0\n",
    "    \n",
    "    # Execute the while loop if both pointers i and j are less than the length of the left and right lists\n",
    "    while i < len(left) and j < len(right):\n",
    "        if left[i] < right[j]:\n",
    "            output.append(left[i])\n",
    "            i += 1\n",
    "        else:\n",
    "            output.append(right[j])\n",
    "            j += 1\n",
    "    \n",
    "    # The remnant elements are picked from the current pointer value to the end of the respective list\n",
    "    output.extend(left[i:])\n",
    "    output.extend(right[j:])\n",
    "    \n",
    "    return(output)\n",
    "    "
   ]
  },
  {
   "cell_type": "code",
   "execution_count": 11,
   "metadata": {},
   "outputs": [
    {
     "name": "stdout",
     "output_type": "stream",
     "text": [
      "[1]\n",
      "[3]\n",
      "[1, 3]\n",
      "[5]\n",
      "[7]\n",
      "[5, 7]\n",
      "[1, 3, 5, 7]\n",
      "[9]\n",
      "[2]\n",
      "[2, 9]\n",
      "[4]\n",
      "[6]\n",
      "[8]\n",
      "[6, 8]\n",
      "[4, 6, 8]\n",
      "[2, 4, 6, 8, 9]\n",
      "[1, 2, 3, 4, 5, 6, 7, 8, 9]\n"
     ]
    }
   ],
   "source": [
    "arr = [1,3,5,7,9,2,4,6,8]\n",
    "print(merge_sort(arr))"
   ]
  },
  {
   "cell_type": "code",
   "execution_count": null,
   "metadata": {},
   "outputs": [],
   "source": []
  }
 ],
 "metadata": {
  "kernelspec": {
   "display_name": "Python 3",
   "language": "python",
   "name": "python3"
  },
  "language_info": {
   "codemirror_mode": {
    "name": "ipython",
    "version": 3
   },
   "file_extension": ".py",
   "mimetype": "text/x-python",
   "name": "python",
   "nbconvert_exporter": "python",
   "pygments_lexer": "ipython3",
   "version": "3.7.8"
  }
 },
 "nbformat": 4,
 "nbformat_minor": 4
}
